{
 "cells": [
  {
   "cell_type": "code",
   "execution_count": 1,
   "metadata": {},
   "outputs": [],
   "source": [
    "import numpy as np\n",
    "import pandas as pd\n",
    "import statsmodels.api as sm\n",
    "from tabulate import tabulate\n",
    "from statsmodels.stats.outliers_influence import variance_inflation_factor\n",
    "import matplotlib.pyplot as plt\n",
    "from sklearn.preprocessing import StandardScaler\n",
    "from stargazer.stargazer import Stargazer\n",
    "import scipy.stats as stats\n",
    "import seaborn as sns\n",
    "import os"
   ]
  },
  {
   "cell_type": "code",
   "execution_count": 2,
   "metadata": {},
   "outputs": [],
   "source": [
    "# File Paths\n",
    "absolute_path = \"C:\\\\Users\\\\tykun\\\\\\OneDrive\\\\Documents\\\\SchoolDocs\\VSCodeProjects\\\\connectedData\\\\board_analysis\\\\\"\n",
    "final_scripts = \"final_scripts\\\\\"\n",
    "regression_stats = \"regression\\\\regression_stats\\\\\"\n",
    "\n",
    "years = [\"1999\", \"2000\", \"2005\", \"2007\", \"2008\", \"2009\", \"2010\", \"2011\", \"2013\", \"2018\"]\n"
   ]
  },
  {
   "cell_type": "code",
   "execution_count": 3,
   "metadata": {},
   "outputs": [],
   "source": [
    "university_stats_path = os.path.join(absolute_path, final_scripts, regression_stats, \"regression_university_board_statistics.csv\")\n",
    "university_board_statistics_df = pd.read_csv(university_stats_path)"
   ]
  },
  {
   "cell_type": "code",
   "execution_count": 4,
   "metadata": {},
   "outputs": [
    {
     "name": "stdout",
     "output_type": "stream",
     "text": [
      "Optimization terminated successfully.\n",
      "         Current function value: 0.252165\n",
      "         Iterations 8\n"
     ]
    }
   ],
   "source": [
    "\n",
    "dependent_var = \"female_president\"\n",
    "year_var = \"Year\"\n",
    "\n",
    "\n",
    "independent_vars = [\n",
    "    \"student.women\", \n",
    "    \"student.size\", \n",
    "    \"female_proportion\",\n",
    "    \"billionaire_proportion\",\n",
    "    \"total_members\",\n",
    "    \"betweenness\",\n",
    "    \"degree\",\n",
    "    \"faculty.race_ethnicity.white\",\n",
    "    \"poc_proportion\",\n",
    "    \"board_turnover\",\n",
    "    \"control\",\n",
    "    \"faculty.women\",\n",
    "    \"strength\",\n",
    "    \"cost.tuition.out_of_state\",\n",
    "    \"school.faculty_salary\",\n",
    "    \"RD_expenditure\",\n",
    "    \"clustering\",\n",
    "    \"Rank\"\n",
    "]\n",
    "\n",
    "\n",
    "cols_to_check = [dependent_var] + independent_vars + [year_var, \"control\"]\n",
    "regression_data = university_board_statistics_df.dropna(subset=cols_to_check).copy()\n",
    "\n",
    "regression_data[dependent_var] = regression_data[dependent_var].astype(int)\n",
    "\n",
    "#one-hot encode Year and control.\n",
    "# drop_first=True avoids the dummy variable trap.\n",
    "regression_data = pd.get_dummies(\n",
    "    regression_data,\n",
    "    columns=[year_var, \"control\"],\n",
    "    drop_first=True\n",
    ")\n",
    "\n",
    "#identify the dummy columns for Year and control.\n",
    "year_dummies = [col for col in regression_data.columns if col.startswith(f\"{year_var}_\")]\n",
    "control_dummies = [col for col in regression_data.columns if col.startswith(\"control_\")]\n",
    "\n",
    "#remove the original \"control\" from independent_vars and add our new dummy variables.\n",
    "predictor_vars = [var for var in independent_vars if var not in [\"control\"]] + year_dummies + control_dummies\n",
    "\n",
    "X = regression_data[predictor_vars]\n",
    "y = regression_data[dependent_var]\n",
    "\n",
    "#ensure all predictor columns are numeric.\n",
    "X = X.apply(pd.to_numeric, errors='raise')\n",
    "\n",
    "#normalize continuous predictors.\n",
    "#exclude dummy variables (for year and control) from scaling.\n",
    "continuous_vars = [\n",
    "    \"student.women\", \n",
    "    \"student.size\", \n",
    "    \"female_proportion\",\n",
    "    \"billionaire_proportion\",\n",
    "    \"total_members\",\n",
    "    \"betweenness\",\n",
    "    \"degree\",\n",
    "    \"faculty.race_ethnicity.white\",\n",
    "    \"poc_proportion\",\n",
    "    \"board_turnover\",\n",
    "    \"faculty.women\",\n",
    "    \"strength\",\n",
    "    \"cost.tuition.out_of_state\",\n",
    "    \"school.faculty_salary\",\n",
    "    \"RD_expenditure\",\n",
    "    \"clustering\",\n",
    "    \"Rank\"\n",
    "]\n",
    "\n",
    "scaler = StandardScaler()\n",
    "vars_to_scale = [var for var in continuous_vars if var in X.columns]\n",
    "X_scaled = X.copy()\n",
    "X_scaled[vars_to_scale] = scaler.fit_transform(X_scaled[vars_to_scale])\n",
    "\n",
    "# Ensure the scaled data is numeric.\n",
    "X_scaled = X_scaled.apply(pd.to_numeric, errors='raise')\n",
    "\n",
    "# Add an intercept.\n",
    "X_scaled = sm.add_constant(X_scaled)\n",
    "# Force all columns to float to avoid object dtype errors.\n",
    "X_scaled = X_scaled.astype(float)\n",
    "\n",
    "# Fit the logistic regression model.\n",
    "logit_model = sm.Logit(y, X_scaled)\n",
    "result = logit_model.fit()\n"
   ]
  }
 ],
 "metadata": {
  "kernelspec": {
   "display_name": "projectEnv",
   "language": "python",
   "name": "python3"
  },
  "language_info": {
   "codemirror_mode": {
    "name": "ipython",
    "version": 3
   },
   "file_extension": ".py",
   "mimetype": "text/x-python",
   "name": "python",
   "nbconvert_exporter": "python",
   "pygments_lexer": "ipython3",
   "version": "3.11.9"
  }
 },
 "nbformat": 4,
 "nbformat_minor": 2
}
