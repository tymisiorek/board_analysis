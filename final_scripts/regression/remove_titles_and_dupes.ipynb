{
 "cells": [
  {
   "cell_type": "code",
   "execution_count": 8,
   "metadata": {},
   "outputs": [],
   "source": [
    "import pandas as pd\n",
    "from collections import defaultdict, Counter\n",
    "import os\n",
    "import re"
   ]
  },
  {
   "cell_type": "code",
   "execution_count": 9,
   "metadata": {},
   "outputs": [],
   "source": [
    "absolute_path = \"C:\\\\Users\\\\tykun\\\\OneDrive\\\\Documents\\\\SchoolDocs\\\\VSCodeProjects\\\\connectedData\\\\board_analysis\\\\\"\n",
    "altered_dataframes = \"altered_dataframes\\\\\"\n",
    "board_dataframes = \"board_dataframes\\\\\"\n",
    "final_scripts = \"final_scripts\\\\\"\n",
    "regression = \"regression\\\\\"\n",
    "normalized_dataframes = \"normalized_dataframes\\\\\"\n",
    "normalized_regression_boards = \"normalized_regression_boards\\\\\"\n",
    "\n",
    "\n",
    "years = [\"1999\", \"2000\", \"2005\", \"2007\", \"2008\", \"2009\", \"2011\", \"2013\", \"2018\"]\n"
   ]
  },
  {
   "cell_type": "code",
   "execution_count": null,
   "metadata": {},
   "outputs": [
    {
     "name": "stderr",
     "output_type": "stream",
     "text": [
      "C:\\Users\\tykun\\AppData\\Local\\Temp\\ipykernel_20464\\270697582.py:23: DeprecationWarning: DataFrameGroupBy.apply operated on the grouping columns. This behavior is deprecated, and in a future version of pandas the grouping columns will be excluded from the operation. Either pass `include_groups=False` to exclude the groupings or explicitly select the grouping columns after groupby to silence this warning.\n",
      "  board_df = board_df.groupby('Institution').apply(lambda group: group.drop_duplicates(subset='Name')).reset_index(drop=True)\n",
      "C:\\Users\\tykun\\AppData\\Local\\Temp\\ipykernel_20464\\270697582.py:26: DeprecationWarning: DataFrameGroupBy.apply operated on the grouping columns. This behavior is deprecated, and in a future version of pandas the grouping columns will be excluded from the operation. Either pass `include_groups=False` to exclude the groupings or explicitly select the grouping columns after groupby to silence this warning.\n",
      "  double_board_df = double_board_df.groupby('Institution').apply(lambda group: group.drop_duplicates(subset='Name')).reset_index(drop=True)\n",
      "C:\\Users\\tykun\\AppData\\Local\\Temp\\ipykernel_20464\\270697582.py:23: DeprecationWarning: DataFrameGroupBy.apply operated on the grouping columns. This behavior is deprecated, and in a future version of pandas the grouping columns will be excluded from the operation. Either pass `include_groups=False` to exclude the groupings or explicitly select the grouping columns after groupby to silence this warning.\n",
      "  board_df = board_df.groupby('Institution').apply(lambda group: group.drop_duplicates(subset='Name')).reset_index(drop=True)\n",
      "C:\\Users\\tykun\\AppData\\Local\\Temp\\ipykernel_20464\\270697582.py:26: DeprecationWarning: DataFrameGroupBy.apply operated on the grouping columns. This behavior is deprecated, and in a future version of pandas the grouping columns will be excluded from the operation. Either pass `include_groups=False` to exclude the groupings or explicitly select the grouping columns after groupby to silence this warning.\n",
      "  double_board_df = double_board_df.groupby('Institution').apply(lambda group: group.drop_duplicates(subset='Name')).reset_index(drop=True)\n",
      "C:\\Users\\tykun\\AppData\\Local\\Temp\\ipykernel_20464\\270697582.py:23: DeprecationWarning: DataFrameGroupBy.apply operated on the grouping columns. This behavior is deprecated, and in a future version of pandas the grouping columns will be excluded from the operation. Either pass `include_groups=False` to exclude the groupings or explicitly select the grouping columns after groupby to silence this warning.\n",
      "  board_df = board_df.groupby('Institution').apply(lambda group: group.drop_duplicates(subset='Name')).reset_index(drop=True)\n",
      "C:\\Users\\tykun\\AppData\\Local\\Temp\\ipykernel_20464\\270697582.py:26: DeprecationWarning: DataFrameGroupBy.apply operated on the grouping columns. This behavior is deprecated, and in a future version of pandas the grouping columns will be excluded from the operation. Either pass `include_groups=False` to exclude the groupings or explicitly select the grouping columns after groupby to silence this warning.\n",
      "  double_board_df = double_board_df.groupby('Institution').apply(lambda group: group.drop_duplicates(subset='Name')).reset_index(drop=True)\n",
      "C:\\Users\\tykun\\AppData\\Local\\Temp\\ipykernel_20464\\270697582.py:23: DeprecationWarning: DataFrameGroupBy.apply operated on the grouping columns. This behavior is deprecated, and in a future version of pandas the grouping columns will be excluded from the operation. Either pass `include_groups=False` to exclude the groupings or explicitly select the grouping columns after groupby to silence this warning.\n",
      "  board_df = board_df.groupby('Institution').apply(lambda group: group.drop_duplicates(subset='Name')).reset_index(drop=True)\n",
      "C:\\Users\\tykun\\AppData\\Local\\Temp\\ipykernel_20464\\270697582.py:26: DeprecationWarning: DataFrameGroupBy.apply operated on the grouping columns. This behavior is deprecated, and in a future version of pandas the grouping columns will be excluded from the operation. Either pass `include_groups=False` to exclude the groupings or explicitly select the grouping columns after groupby to silence this warning.\n",
      "  double_board_df = double_board_df.groupby('Institution').apply(lambda group: group.drop_duplicates(subset='Name')).reset_index(drop=True)\n",
      "C:\\Users\\tykun\\AppData\\Local\\Temp\\ipykernel_20464\\270697582.py:23: DeprecationWarning: DataFrameGroupBy.apply operated on the grouping columns. This behavior is deprecated, and in a future version of pandas the grouping columns will be excluded from the operation. Either pass `include_groups=False` to exclude the groupings or explicitly select the grouping columns after groupby to silence this warning.\n",
      "  board_df = board_df.groupby('Institution').apply(lambda group: group.drop_duplicates(subset='Name')).reset_index(drop=True)\n",
      "C:\\Users\\tykun\\AppData\\Local\\Temp\\ipykernel_20464\\270697582.py:26: DeprecationWarning: DataFrameGroupBy.apply operated on the grouping columns. This behavior is deprecated, and in a future version of pandas the grouping columns will be excluded from the operation. Either pass `include_groups=False` to exclude the groupings or explicitly select the grouping columns after groupby to silence this warning.\n",
      "  double_board_df = double_board_df.groupby('Institution').apply(lambda group: group.drop_duplicates(subset='Name')).reset_index(drop=True)\n",
      "C:\\Users\\tykun\\AppData\\Local\\Temp\\ipykernel_20464\\270697582.py:23: DeprecationWarning: DataFrameGroupBy.apply operated on the grouping columns. This behavior is deprecated, and in a future version of pandas the grouping columns will be excluded from the operation. Either pass `include_groups=False` to exclude the groupings or explicitly select the grouping columns after groupby to silence this warning.\n",
      "  board_df = board_df.groupby('Institution').apply(lambda group: group.drop_duplicates(subset='Name')).reset_index(drop=True)\n",
      "C:\\Users\\tykun\\AppData\\Local\\Temp\\ipykernel_20464\\270697582.py:26: DeprecationWarning: DataFrameGroupBy.apply operated on the grouping columns. This behavior is deprecated, and in a future version of pandas the grouping columns will be excluded from the operation. Either pass `include_groups=False` to exclude the groupings or explicitly select the grouping columns after groupby to silence this warning.\n",
      "  double_board_df = double_board_df.groupby('Institution').apply(lambda group: group.drop_duplicates(subset='Name')).reset_index(drop=True)\n",
      "C:\\Users\\tykun\\AppData\\Local\\Temp\\ipykernel_20464\\270697582.py:23: DeprecationWarning: DataFrameGroupBy.apply operated on the grouping columns. This behavior is deprecated, and in a future version of pandas the grouping columns will be excluded from the operation. Either pass `include_groups=False` to exclude the groupings or explicitly select the grouping columns after groupby to silence this warning.\n",
      "  board_df = board_df.groupby('Institution').apply(lambda group: group.drop_duplicates(subset='Name')).reset_index(drop=True)\n",
      "C:\\Users\\tykun\\AppData\\Local\\Temp\\ipykernel_20464\\270697582.py:26: DeprecationWarning: DataFrameGroupBy.apply operated on the grouping columns. This behavior is deprecated, and in a future version of pandas the grouping columns will be excluded from the operation. Either pass `include_groups=False` to exclude the groupings or explicitly select the grouping columns after groupby to silence this warning.\n",
      "  double_board_df = double_board_df.groupby('Institution').apply(lambda group: group.drop_duplicates(subset='Name')).reset_index(drop=True)\n",
      "C:\\Users\\tykun\\AppData\\Local\\Temp\\ipykernel_20464\\270697582.py:23: DeprecationWarning: DataFrameGroupBy.apply operated on the grouping columns. This behavior is deprecated, and in a future version of pandas the grouping columns will be excluded from the operation. Either pass `include_groups=False` to exclude the groupings or explicitly select the grouping columns after groupby to silence this warning.\n",
      "  board_df = board_df.groupby('Institution').apply(lambda group: group.drop_duplicates(subset='Name')).reset_index(drop=True)\n",
      "C:\\Users\\tykun\\AppData\\Local\\Temp\\ipykernel_20464\\270697582.py:26: DeprecationWarning: DataFrameGroupBy.apply operated on the grouping columns. This behavior is deprecated, and in a future version of pandas the grouping columns will be excluded from the operation. Either pass `include_groups=False` to exclude the groupings or explicitly select the grouping columns after groupby to silence this warning.\n",
      "  double_board_df = double_board_df.groupby('Institution').apply(lambda group: group.drop_duplicates(subset='Name')).reset_index(drop=True)\n",
      "C:\\Users\\tykun\\AppData\\Local\\Temp\\ipykernel_20464\\270697582.py:23: DeprecationWarning: DataFrameGroupBy.apply operated on the grouping columns. This behavior is deprecated, and in a future version of pandas the grouping columns will be excluded from the operation. Either pass `include_groups=False` to exclude the groupings or explicitly select the grouping columns after groupby to silence this warning.\n",
      "  board_df = board_df.groupby('Institution').apply(lambda group: group.drop_duplicates(subset='Name')).reset_index(drop=True)\n",
      "C:\\Users\\tykun\\AppData\\Local\\Temp\\ipykernel_20464\\270697582.py:26: DeprecationWarning: DataFrameGroupBy.apply operated on the grouping columns. This behavior is deprecated, and in a future version of pandas the grouping columns will be excluded from the operation. Either pass `include_groups=False` to exclude the groupings or explicitly select the grouping columns after groupby to silence this warning.\n",
      "  double_board_df = double_board_df.groupby('Institution').apply(lambda group: group.drop_duplicates(subset='Name')).reset_index(drop=True)\n"
     ]
    }
   ],
   "source": [
    "substrings_to_remove = [\n",
    "    \"Rev.\", \"SJ\", \"Sister\", \"Brother\", \"Father\", \"OP\", \"The Very\",\n",
    "    \"Sr.\", \"O.P.\", \"Very Rev.\", \"Br.\", \"Dr.\", \"Md.\", \"S.J.\", \"Very Rev\",\n",
    "    \"M.D.\", \"O.P\", \"S.J\", \"J.R\", \"Jr.\", \"Jr \", \"III\", \"Dr \", \"The Honorable\", \n",
    "    \"Rev \", \"Bishop \"\n",
    "]\n",
    "\n",
    "def clean_name(raw_name: str) -> str:\n",
    "    for title in substrings_to_remove:\n",
    "        raw_name = re.sub(r'\\b' + re.escape(title.strip()) + r'\\b', '', raw_name, flags=re.IGNORECASE)\n",
    "    raw_name = re.sub(r'[^\\w\\s]', '', raw_name)\n",
    "    return \" \".join(raw_name.split()).title()\n",
    "\n",
    "for year in years:\n",
    "    board_path = os.path.join(absolute_path, f\"{final_scripts}regression\\\\normalized_regression_boards\\\\{year}_boards_normalized_regression.csv\")\n",
    "    double_board_path = os.path.join(absolute_path, f\"{final_scripts}regression\\\\normalized_regression_boards\\\\{year}_double_boards_normalized_regression.csv\")\n",
    "    board_df = pd.read_csv(board_path)\n",
    "    double_board_df = pd.read_csv(double_board_path)\n",
    "\n",
    "    #remove duplicate names (we split people positions into separate but we cant count them twice as board stats)\n",
    "    #remove any titles from the names:\n",
    "    board_df['Name'] = board_df['Name'].apply(clean_name)\n",
    "    board_df = board_df.groupby('Institution').apply(lambda group: group.drop_duplicates(subset='Name')).reset_index(drop=True)\n",
    "\n",
    "    double_board_df['Name'] = double_board_df['Name'].apply(clean_name)\n",
    "    double_board_df = double_board_df.groupby('Institution').apply(lambda group: group.drop_duplicates(subset='Name')).reset_index(drop=True)\n",
    "\n",
    "    board_df = board_df[board_df['Name'] != \"Vacant\"]\n",
    "    double_board_df = double_board_df[double_board_df['Name'] != \"Vacant\"]\n",
    "\n",
    "    board_path = os.path.join(absolute_path, f\"{final_scripts}regression\\\\normalized_regression_boards\\\\{year}_boards_normalized_regression.csv\")\n",
    "    double_board_path = os.path.join(absolute_path, f\"{final_scripts}regression\\\\normalized_regression_boards\\\\{year}_double_boards_normalized_regression.csv\")\n",
    "\n",
    "    board_df.to_csv(board_path, index=False)\n",
    "    double_board_df.to_csv(double_board_path, index=False)"
   ]
  },
  {
   "cell_type": "code",
   "execution_count": null,
   "metadata": {},
   "outputs": [],
   "source": []
  }
 ],
 "metadata": {
  "kernelspec": {
   "display_name": "projectEnv",
   "language": "python",
   "name": "python3"
  },
  "language_info": {
   "codemirror_mode": {
    "name": "ipython",
    "version": 3
   },
   "file_extension": ".py",
   "mimetype": "text/x-python",
   "name": "python",
   "nbconvert_exporter": "python",
   "pygments_lexer": "ipython3",
   "version": "3.11.9"
  }
 },
 "nbformat": 4,
 "nbformat_minor": 2
}
