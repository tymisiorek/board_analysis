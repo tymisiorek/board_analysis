{
 "cells": [
  {
   "cell_type": "code",
   "execution_count": 9,
   "metadata": {},
   "outputs": [],
   "source": [
    "import pandas as pd\n",
    "import os\n",
    "import matplotlib.pyplot as plt"
   ]
  },
  {
   "cell_type": "code",
   "execution_count": 10,
   "metadata": {},
   "outputs": [],
   "source": [
    "absolute_path = \"C:\\\\Users\\\\tykun\\\\OneDrive\\\\Documents\\\\SchoolDocs\\\\VSCodeProjects\\\\connectedData\\\\board_analysis\\\\\"\n",
    "altered_dataframes = \"altered_dataframes\\\\\"\n",
    "gpt_dataframes = \"gpt_dataframes\\\\\"\n",
    "graphs = \"graphs\\\\\"  \n",
    "scripts = \"scripts\\\\\"\n",
    "board_dataframes = \"board_dataframes\\\\\"\n",
    "yearly_interlocks = \"yearly_interlocks\\\\\"\n",
    "final_scripts = \"final_scripts\\\\\"\n",
    "normalized_dataframes = \"normalized_dataframes\\\\\"\n",
    "\n",
    "\n",
    "years = [\"1999\", \"2000\", \"2005\", \"2007\", \"2008\", \"2009\", \"2011\", \"2013\", \"2018\"]"
   ]
  },
  {
   "cell_type": "code",
   "execution_count": 11,
   "metadata": {},
   "outputs": [],
   "source": [
    "#year invariant dataframes\n",
    "affiliation_path = os.path.join(absolute_path, final_scripts, 'normalized_dataframes\\\\affiliation_altered.csv')\n",
    "state_system_path = os.path.join(absolute_path, final_scripts, 'normalized_dataframes\\\\state_systems_validated.csv')\n",
    "\n",
    "affiliation_df = pd.read_csv(affiliation_path)\n",
    "state_systems_df = pd.read_csv(state_system_path)\n",
    "\n",
    "affiliation_df[\"AffiliationId\"] = affiliation_df[\"AffiliationId\"].astype(str)\n",
    "affiliation_df = affiliation_df.drop_duplicates(subset=['AffiliationId'])\n",
    "\n",
    "state_systems_df[\"AffiliationId\"] = state_systems_df[\"AffiliationId\"].astype(str)\n",
    "state_systems_df = state_systems_df.drop_duplicates(subset=['AffiliationId'])"
   ]
  },
  {
   "cell_type": "code",
   "execution_count": 12,
   "metadata": {},
   "outputs": [],
   "source": [
    "# for year in years:\n",
    "#     file_path = os.path.join(absolute_path, final_scripts, normalized_dataframes, f\"{year}_boards_normalized.csv\")\n",
    "#     boards_df = pd.read_csv(file_path)\n",
    "\n",
    "#     print(boards_df['Institution'].nunique())\n"
   ]
  },
  {
   "cell_type": "code",
   "execution_count": 14,
   "metadata": {},
   "outputs": [],
   "source": [
    "for year in years:\n",
    "    board_path = os.path.join(absolute_path, board_dataframes, f\"{year}_boards.csv\")\n",
    "    double_board_path = os.path.join(absolute_path, board_dataframes, f\"{year}_double_board.csv\")\n",
    "    board_df = pd.read_csv(board_path)\n",
    "    double_board_df = pd.read_csv(double_board_path)\n",
    "    \n",
    "    # Define a filter function: keep groups if at most half of the members are \"Board Vice President\"\n",
    "    def keep_group(group):\n",
    "        total = len(group)\n",
    "        vice_presidents = (group[\"FixedPosition\"] == \"Board Vice President\").sum()\n",
    "        return vice_presidents <= (total / 2.5)\n",
    "    \n",
    "    # Remove groups where more than half are \"Board Vice President\"\n",
    "    filtered_board_df = board_df.groupby(\"Institution\").filter(keep_group)\n",
    "    filtered_double_board_df = double_board_df.groupby(\"Institution\").filter(keep_group)\n",
    "    \n",
    "    # Sort the resulting DataFrames\n",
    "    filtered_board_df.sort_values(by=['Institution', 'AffiliationId'], inplace=True)\n",
    "    filtered_double_board_df.sort_values(by=['Institution', 'AffiliationId'], inplace=True)\n",
    "    \n",
    "    # Write the cleaned DataFrames to CSV\n",
    "    filtered_board_df.to_csv(os.path.join(absolute_path, board_dataframes, f\"{year}_boards.csv\"), index = False)\n",
    "    filtered_double_board_df.to_csv(os.path.join(absolute_path, board_dataframes, f\"{year}_double_board.csv\"), index=False)"
   ]
  }
 ],
 "metadata": {
  "kernelspec": {
   "display_name": "projectEnv",
   "language": "python",
   "name": "python3"
  },
  "language_info": {
   "codemirror_mode": {
    "name": "ipython",
    "version": 3
   },
   "file_extension": ".py",
   "mimetype": "text/x-python",
   "name": "python",
   "nbconvert_exporter": "python",
   "pygments_lexer": "ipython3",
   "version": "3.11.9"
  }
 },
 "nbformat": 4,
 "nbformat_minor": 2
}
