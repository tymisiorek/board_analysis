{
 "cells": [
  {
   "cell_type": "code",
   "execution_count": 18,
   "metadata": {},
   "outputs": [],
   "source": [
    "import pandas as pd\n",
    "from collections import defaultdict, Counter\n",
    "import networkx as nx\n",
    "import os\n",
    "import re\n",
    "import matplotlib.pyplot as plt\n",
    "from rapidfuzz import fuzz\n",
    "from itertools import combinations"
   ]
  },
  {
   "cell_type": "code",
   "execution_count": 19,
   "metadata": {},
   "outputs": [],
   "source": [
    "absolute_path = \"C:\\\\Users\\\\tykun\\\\OneDrive\\\\Documents\\\\SchoolDocs\\\\VSCodeProjects\\\\connectedData\\\\board_analysis\\\\\"\n",
    "altered_dataframes = \"altered_dataframes\\\\\"\n",
    "gpt_dataframes = \"gpt_dataframes\\\\\"\n",
    "graphs = \"graphs\\\\\"  \n",
    "scripts = \"scripts\\\\\"\n",
    "board_dataframes = \"board_dataframes\\\\\"\n",
    "yearly_interlocks = \"yearly_interlocks\\\\\"\n",
    "final_scripts = \"final_scripts\\\\\"\n",
    "normalized_dataframes = \"normalized_dataframes\\\\\"\n",
    "\n",
    "\n",
    "years = [\"1999\", \"2000\", \"2005\", \"2007\", \"2008\", \"2009\", \"2011\", \"2013\", \"2018\"]"
   ]
  },
  {
   "cell_type": "code",
   "execution_count": 20,
   "metadata": {},
   "outputs": [
    {
     "name": "stdout",
     "output_type": "stream",
     "text": [
      "Updated board_statistics_df saved to: C:\\Users\\tykun\\OneDrive\\Documents\\SchoolDocs\\VSCodeProjects\\connectedData\\board_analysis\\final_scripts\\normalized_dataframes\\sample_board_statistics_normalized.csv\n"
     ]
    }
   ],
   "source": [
    "# Read in the board statistics DataFrame.\n",
    "board_statistics_path = os.path.join(absolute_path, altered_dataframes, \"sample_board_statistics.csv\")\n",
    "board_statistics_df = pd.read_csv(board_statistics_path)\n",
    "\n",
    "# columns_to_drop = [\"carnegie_id_x\", \"carnegie_id_y\", \"year_x\", \"year_y\"]\n",
    "# board_statistics_df = board_statistics_df.drop(columns=[col for col in columns_to_drop if col in board_statistics_df.columns])\n",
    "# Create an empty dictionary for a global mapping: AffiliationId -> Institution (from board data)\n",
    "global_mapping = {}\n",
    "\n",
    "# Process each year to update the mapping.\n",
    "for year in years:\n",
    "    file_path = os.path.join(absolute_path, final_scripts, normalized_dataframes, f\"{year}_boards_normalized.csv\")\n",
    "    board_df = pd.read_csv(file_path)\n",
    "    \n",
    "    # Build a mapping from AffiliationId to Institution name.\n",
    "    # If an AffiliationId has multiple Institution names, pick the mode (most frequent).\n",
    "    # (If mode() is empty, use the first encountered value.)\n",
    "    mapping = board_df.groupby(\"AffiliationId\")[\"Institution\"].agg(\n",
    "        lambda x: x.mode()[0] if not x.mode().empty else x.iloc[0]\n",
    "    ).to_dict()\n",
    "    \n",
    "    # Update the global mapping with the mapping from this year.\n",
    "    global_mapping.update(mapping)\n",
    "\n",
    "# Now update board_statistics_df:\n",
    "# 1. For each row in board_statistics_df, if its AffiliationId exists in the mapping,\n",
    "#    change its \"Institution\" to the corresponding value from the board data.\n",
    "# 2. Remove any rows whose AffiliationId is not in the mapping.\n",
    "board_statistics_df[\"Institution\"] = board_statistics_df[\"AffiliationId\"].map(global_mapping).fillna(board_statistics_df[\"Institution\"])\n",
    "board_statistics_df = board_statistics_df[board_statistics_df[\"AffiliationId\"].isin(global_mapping.keys())]\n",
    "\n",
    "# Write the updated board_statistics_df back to CSV.\n",
    "output_path = os.path.join(absolute_path, final_scripts, normalized_dataframes, \"sample_board_statistics_normalized.csv\")\n",
    "board_statistics_df.to_csv(output_path, index=False)\n",
    "print(f\"Updated board_statistics_df saved to: {output_path}\")\n"
   ]
  }
 ],
 "metadata": {
  "kernelspec": {
   "display_name": "projectEnv",
   "language": "python",
   "name": "python3"
  },
  "language_info": {
   "codemirror_mode": {
    "name": "ipython",
    "version": 3
   },
   "file_extension": ".py",
   "mimetype": "text/x-python",
   "name": "python",
   "nbconvert_exporter": "python",
   "pygments_lexer": "ipython3",
   "version": "3.11.9"
  }
 },
 "nbformat": 4,
 "nbformat_minor": 2
}
