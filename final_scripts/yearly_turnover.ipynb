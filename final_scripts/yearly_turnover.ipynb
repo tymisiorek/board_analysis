{
 "cells": [
  {
   "cell_type": "code",
   "execution_count": 6,
   "metadata": {},
   "outputs": [],
   "source": [
    "import pandas as pd\n",
    "from collections import defaultdict, Counter\n",
    "import networkx as nx\n",
    "import os\n",
    "import re\n",
    "import matplotlib.pyplot as plt\n",
    "from rapidfuzz import fuzz\n",
    "from itertools import combinations"
   ]
  },
  {
   "cell_type": "code",
   "execution_count": 7,
   "metadata": {},
   "outputs": [],
   "source": [
    "absolute_path = \"C:\\\\Users\\\\tykun\\\\OneDrive\\\\Documents\\\\SchoolDocs\\\\VSCodeProjects\\\\connectedData\\\\board_analysis\\\\\"\n",
    "altered_dataframes = \"altered_dataframes\\\\\"\n",
    "gpt_dataframes = \"gpt_dataframes\\\\\"\n",
    "graphs = \"graphs\\\\\"  \n",
    "scripts = \"scripts\\\\\"\n",
    "board_dataframes = \"board_dataframes\\\\\"\n",
    "yearly_interlocks = \"yearly_interlocks\\\\\"\n",
    "final_scripts = \"final_scripts\\\\\"\n",
    "normalized_dataframes = \"normalized_dataframes\\\\\"\n",
    "\n",
    "\n",
    "years = [\"1999\", \"2000\", \"2005\", \"2007\", \"2008\", \"2009\", \"2011\", \"2013\", \"2018\"]"
   ]
  },
  {
   "cell_type": "code",
   "execution_count": 8,
   "metadata": {},
   "outputs": [
    {
     "name": "stdout",
     "output_type": "stream",
     "text": [
      "Average board turnover for year 2000 (compared to 1999): 0.35\n",
      "Average board turnover for year 2005 (compared to 2000): 0.15\n",
      "Average board turnover for year 2007 (compared to 2005): 0.23\n",
      "Average board turnover for year 2008 (compared to 2007): 0.32\n",
      "Average board turnover for year 2009 (compared to 2008): 0.26\n",
      "Average board turnover for year 2011 (compared to 2009): 0.24\n",
      "Average board turnover for year 2013 (compared to 2011): 0.24\n",
      "Average board turnover for year 2018 (compared to 2013): 0.15\n"
     ]
    }
   ],
   "source": [
    "\n",
    "# First, sort the years (if they are not already in ascending order).\n",
    "# We assume that each element in `years` can be converted to an integer.\n",
    "sorted_years = sorted(years, key=lambda x: int(x))\n",
    "\n",
    "# Build a dictionary mapping each year to a dictionary of institution -> set of board members.\n",
    "board_memberships = {}\n",
    "\n",
    "for year in sorted_years:\n",
    "    file_path = os.path.join(absolute_path, final_scripts, normalized_dataframes, f\"{year}_boards_normalized.csv\")\n",
    "    board_df = pd.read_csv(file_path)\n",
    "    \n",
    "    # Build a dictionary: for each institution, store the unique board member names.\n",
    "    membership = {}\n",
    "    for inst, group in board_df.groupby(\"Institution\"):\n",
    "        # Use dropna() to avoid missing names.\n",
    "        membership[inst] = set(group[\"Name\"].dropna().unique())\n",
    "    board_memberships[year] = membership\n",
    "\n",
    "# Now, for each year (except the first), compute the average board turnover.\n",
    "# We define board turnover for an institution as:\n",
    "#    turnover = |(board members in year_t) Δ (board members in year_t-1)| / |(board members in year_t) ∪ (board members in year_t-1)|\n",
    "# (The symmetric difference divided by the union.)\n",
    "turnover_by_year = {}\n",
    "\n",
    "for i in range(1, len(sorted_years)):\n",
    "    year = sorted_years[i]\n",
    "    prev_year = sorted_years[i-1]\n",
    "    memberships_current = board_memberships[year]\n",
    "    memberships_prev = board_memberships[prev_year]\n",
    "    \n",
    "    turnover_list = []\n",
    "    # Only consider institutions that appear in both years.\n",
    "    for inst in memberships_current:\n",
    "        if inst in memberships_prev:\n",
    "            current_set = memberships_current[inst]\n",
    "            prev_set = memberships_prev[inst]\n",
    "            union_size = len(current_set.union(prev_set))\n",
    "            # Avoid division by zero if union is empty.\n",
    "            if union_size == 0:\n",
    "                continue\n",
    "            sym_diff_size = len(current_set.symmetric_difference(prev_set))\n",
    "            turnover = sym_diff_size / union_size\n",
    "            turnover_list.append(turnover)\n",
    "    # Compute the average turnover for the year (if any institutions were comparable).\n",
    "    if turnover_list:\n",
    "        avg_turnover = sum(turnover_list) / len(turnover_list)\n",
    "        turnover_by_year[year] = avg_turnover / (int(sorted_years[i]) - int(sorted_years[i-1]))\n",
    "    else:\n",
    "        turnover_by_year[year] = None\n",
    "\n",
    "# Print the average board turnover for each year (starting with the second year).\n",
    "for year in sorted_years[1:]:\n",
    "    turnover = turnover_by_year.get(year)\n",
    "    if turnover is not None:\n",
    "        print(f\"Average board turnover for year {year} (compared to {sorted_years[sorted_years.index(year)-1]}): {turnover:.2f}\")\n",
    "    else:\n",
    "        print(f\"Average board turnover for year {year} could not be computed (no common institutions).\")\n"
   ]
  }
 ],
 "metadata": {
  "kernelspec": {
   "display_name": "projectEnv",
   "language": "python",
   "name": "python3"
  },
  "language_info": {
   "codemirror_mode": {
    "name": "ipython",
    "version": 3
   },
   "file_extension": ".py",
   "mimetype": "text/x-python",
   "name": "python",
   "nbconvert_exporter": "python",
   "pygments_lexer": "ipython3",
   "version": "3.11.9"
  }
 },
 "nbformat": 4,
 "nbformat_minor": 2
}
