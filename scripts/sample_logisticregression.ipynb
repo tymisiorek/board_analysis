{
 "cells": [
  {
   "cell_type": "code",
   "execution_count": 1,
   "id": "f7d77655-7170-4c1f-8f27-f06d168f1152",
   "metadata": {},
   "outputs": [],
   "source": [
    "import numpy as np\n",
    "import pandas as pd\n",
    "import statsmodels.api as sm\n"
   ]
  },
  {
   "cell_type": "code",
   "execution_count": 2,
   "id": "606eba1a-e684-4ae6-97db-b350a0f02e24",
   "metadata": {
    "scrolled": true
   },
   "outputs": [],
   "source": [
    "# Set random seed for reproducibility\n",
    "np.random.seed(42)\n",
    "\n",
    "# Define number of countries and years\n",
    "n_countries = 10\n",
    "n_years = 5\n",
    "\n",
    "# Create a panel structure\n",
    "countries = np.repeat([f'Country_{i+1}' for i in range(n_countries)], n_years)\n",
    "years = np.tile(np.arange(2000, 2000 + n_years), n_countries)\n",
    "\n",
    "# Generate random features\n",
    "gdp = np.random.rand(n_countries * n_years) * 100  # GDP as a continuous variable\n",
    "policy = np.random.choice([0, 1], size=n_countries * n_years)  # Binary policy variable\n",
    "target = np.random.choice([0, 1], size=n_countries * n_years)  # Binary outcome\n",
    "\n",
    "# Create the panel dataset\n",
    "panel_data = pd.DataFrame({\n",
    "    'country': countries,\n",
    "    'year': years,\n",
    "    'gdp': gdp,\n",
    "    'policy': policy,\n",
    "    'target': target\n",
    "})\n",
    "\n",
    "# Add dummy variables for countries (fixaed effects)\n",
    "panel_data = pd.get_dummies(panel_data, columns=['year'], drop_first=True)\n",
    "\n",
    "# Separate features (X) and target (y)\n",
    "X = panel_data.drop(['target','country'], axis=1)  # Drop 'year' or add it as dummy variables if needed\n",
    "y = panel_data['target']\n",
    "\n",
    "# Add a constant term\n",
    "X = sm.add_constant(X)\n"
   ]
  },
  {
   "cell_type": "code",
   "execution_count": 3,
   "id": "c36f3bcb",
   "metadata": {},
   "outputs": [
    {
     "name": "stdout",
     "output_type": "stream",
     "text": [
      "const        float64\n",
      "gdp          float64\n",
      "policy         int32\n",
      "year_2001       bool\n",
      "year_2002       bool\n",
      "year_2003       bool\n",
      "year_2004       bool\n",
      "dtype: object\n",
      "int32\n"
     ]
    }
   ],
   "source": [
    "print(X.dtypes)\n",
    "print(y.dtypes)\n",
    "X = X.astype({col: 'int32' for col in X.select_dtypes('bool').columns})\n",
    "\n"
   ]
  },
  {
   "cell_type": "code",
   "execution_count": 4,
   "id": "cd5899b1-7ae9-4af8-9d2b-7421af413ff6",
   "metadata": {},
   "outputs": [
    {
     "name": "stdout",
     "output_type": "stream",
     "text": [
      "Optimization terminated successfully.\n",
      "         Current function value: 0.585687\n",
      "         Iterations 6\n",
      "Optimization terminated successfully.\n",
      "         Current function value: 0.585687\n",
      "         Iterations 6\n",
      "\\begin{table}[!htbp] \\centering\n",
      "  \\caption{Logistic Regression Results}\n",
      "\\begin{tabular}{@{\\extracolsep{5pt}}lcc}\n",
      "\\\\[-1.8ex]\\hline\n",
      "\\hline \\\\[-1.8ex]\n",
      "& \\multicolumn{2}{c}{\\textit{Dependent variable: target}} \\\n",
      "\\cr \\cline{2-3}\n",
      "\\\\[-1.8ex] & \\multicolumn{1}{c}{Model 1} & \\multicolumn{1}{c}{Model 2}  \\\\\n",
      "\\hline \\\\[-1.8ex]\n",
      " const & 0.491$^{}$ & 0.491$^{}$ \\\\\n",
      "& (1.006) & (1.006) \\\\\n",
      " gdp & 0.001$^{}$ & 0.001$^{}$ \\\\\n",
      "& (0.012) & (0.012) \\\\\n",
      " policy & -1.369$^{**}$ & -1.369$^{**}$ \\\\\n",
      "& (0.686) & (0.686) \\\\\n",
      " year_2001 & -1.047$^{}$ & -1.047$^{}$ \\\\\n",
      "& (1.047) & (1.047) \\\\\n",
      " year_2002 & -0.150$^{}$ & -0.150$^{}$ \\\\\n",
      "& (0.966) & (0.966) \\\\\n",
      " year_2003 & -1.244$^{}$ & -1.244$^{}$ \\\\\n",
      "& (1.095) & (1.095) \\\\\n",
      " year_2004 & 0.013$^{}$ & 0.013$^{}$ \\\\\n",
      "& (0.981) & (0.981) \\\\\n",
      "\\hline \\\\[-1.8ex]\n",
      " Observations & 50 & 50 \\\\\n",
      " Pseudo $R^2$ & 0.104 & 0.104 \\\\\n",
      "\\hline\n",
      "\\hline \\\\[-1.8ex]\n",
      "\\textit{Note:} & \\multicolumn{2}{r}{$^{*}$p$<$0.1; $^{**}$p$<$0.05; $^{***}$p$<$0.01} \\\\\n",
      "\\end{tabular}\n",
      "\\end{table}\n"
     ]
    }
   ],
   "source": [
    "from stargazer.stargazer import Stargazer\n",
    "\n",
    "\n",
    "model1 = sm.Logit(y, X).fit()\n",
    "\n",
    "model2 = sm.Logit(y, X).fit()\n",
    "\n",
    "stargazer = Stargazer([model1, model2])\n",
    "\n",
    "stargazer.title(\"Logistic Regression Results\")\n",
    "stargazer.custom_columns([\"Model 1\", \"Model 2\"], [1, 1])\n",
    "stargazer.show_model_numbers(False)\n",
    "\n",
    "latex_output=stargazer.render_latex()\n",
    "\n",
    "with open(\"regression_table.tex\", \"w\") as f:\n",
    "    f.write(latex_output)\n",
    "\n",
    "print(stargazer.render_latex())"
   ]
  },
  {
   "cell_type": "code",
   "execution_count": 5,
   "id": "e79fbe0e-5e0f-4d02-a194-06d729cf4a8f",
   "metadata": {},
   "outputs": [
    {
     "name": "stdout",
     "output_type": "stream",
     "text": [
      "\\begin{table}\n",
      "\\caption{}\n",
      "\\label{}\n",
      "\\begin{center}\n",
      "\\begin{tabular}{ll}\n",
      "\\hline\n",
      "           & target   \\\\\n",
      "\\hline\n",
      "const      & 0.49     \\\\\n",
      "           & (1.01)   \\\\\n",
      "gdp        & 0.00     \\\\\n",
      "           & (0.01)   \\\\\n",
      "policy     & -1.37**  \\\\\n",
      "           & (0.69)   \\\\\n",
      "year\\_2001 & -1.05    \\\\\n",
      "           & (1.05)   \\\\\n",
      "year\\_2002 & -0.15    \\\\\n",
      "           & (0.97)   \\\\\n",
      "year\\_2003 & -1.24    \\\\\n",
      "           & (1.09)   \\\\\n",
      "year\\_2004 & 0.01     \\\\\n",
      "           & (0.98)   \\\\\n",
      "\\hline\n",
      "\\end{tabular}\n",
      "\\end{center}\n",
      "\\end{table}\n",
      "\\bigskip\n",
      "Standard errors in parentheses. \\newline \n",
      "* p<.1, ** p<.05, ***p<.01\n"
     ]
    }
   ],
   "source": [
    "from statsmodels.iolib.summary2 import summary_col\n",
    "\n",
    "\n",
    "summary=summary_col([model1],stars=True,float_format='%0.2f',regressor_order=['const','gdp','policy'])\n",
    "\n",
    "latex_output = summary.as_latex()\n",
    "print(latex_output)"
   ]
  },
  {
   "cell_type": "code",
   "execution_count": null,
   "id": "f9e9c66e-65dc-41b8-b537-ec7f11c61b85",
   "metadata": {},
   "outputs": [],
   "source": []
  },
  {
   "cell_type": "code",
   "execution_count": null,
   "id": "69c8f264-e295-4d4a-8ec5-cf2a8e28391f",
   "metadata": {},
   "outputs": [],
   "source": []
  },
  {
   "cell_type": "code",
   "execution_count": null,
   "id": "08fdac59-7f39-4807-9fbc-fb4e533cd567",
   "metadata": {},
   "outputs": [],
   "source": []
  }
 ],
 "metadata": {
  "kernelspec": {
   "display_name": "projectEnv",
   "language": "python",
   "name": "python3"
  },
  "language_info": {
   "codemirror_mode": {
    "name": "ipython",
    "version": 3
   },
   "file_extension": ".py",
   "mimetype": "text/x-python",
   "name": "python",
   "nbconvert_exporter": "python",
   "pygments_lexer": "ipython3",
   "version": "3.11.9"
  }
 },
 "nbformat": 4,
 "nbformat_minor": 5
}
