{
 "cells": [
  {
   "cell_type": "code",
   "execution_count": 9,
   "metadata": {},
   "outputs": [],
   "source": [
    "import pandas as pd\n",
    "import numpy as np\n",
    "import matplotlib.pyplot as plt\n",
    "from collections import Counter, defaultdict\n",
    "import os\n",
    "import json\n",
    "import networkx as nx"
   ]
  },
  {
   "cell_type": "code",
   "execution_count": 10,
   "metadata": {},
   "outputs": [],
   "source": [
    "# File Paths\n",
    "absolute_path = \"C:\\\\Users\\\\tykun\\\\\\OneDrive\\\\Documents\\\\SchoolDocs\\VSCodeProjects\\\\connectedData\\\\board_analysis\\\\\"\n",
    "altered_dataframes = \"altered_dataframes\\\\\"\n",
    "gpt_dataframes = \"gpt_dataframes\\\\\"\n",
    "graphs = \"graphs\\\\\"\n",
    "scripts =  \"scripts\\\\\"\n",
    "board_dataframes = \"board_dataframes\\\\\"\n",
    "temporary_data = \"temporary_data\\\\\"\n",
    "college_matching = \"college_matching\\\\\"\n",
    "\n",
    "altered_dataframe_path = f\"{absolute_path}{altered_dataframes}\"\n",
    "gpt_dataframe_path = f\"{absolute_path}{gpt_dataframes}\" \n",
    "graph_path = f\"{absolute_path}{graphs}\"\n",
    "script_path = f\"{absolute_path}{scripts}\"\n",
    "boards_path = f\"{absolute_path}{board_dataframes}\"\n",
    "state_path = f\"{absolute_path}{temporary_data}state_systems_validated.csv\"   \n",
    "college_matching_path = f\"{absolute_path}{college_matching}\"\n",
    "\n",
    "# Valid Years\n",
    "years = [\"1999\", \"2000\", \"2005\", \"2007\", \"2008\", \"2009\", \"2011\", \"2013\", \"2018\"]"
   ]
  },
  {
   "cell_type": "code",
   "execution_count": 11,
   "metadata": {},
   "outputs": [],
   "source": [
    "def json_to_dataframes(json_file_path):\n",
    "    # Load the JSON data\n",
    "    with open(json_file_path, 'r') as file:\n",
    "        data = json.load(file)\n",
    "    \n",
    "    # Extract nodes\n",
    "    nodes = data.get(\"nodes\", [])\n",
    "    \n",
    "    # Flatten nodes and attributes\n",
    "    nodes_list = []\n",
    "    for node in nodes:\n",
    "        flattened_node = {\n",
    "            \"label\": node.get(\"label\"),\n",
    "            \"x\": node.get(\"x\"),\n",
    "            \"y\": node.get(\"y\"),\n",
    "            \"id\": node.get(\"id\"),\n",
    "            \"color\": node.get(\"color\"),\n",
    "            \"size\": node.get(\"size\"),\n",
    "        }\n",
    "        # Add all attributes from the \"attributes\" dictionary\n",
    "        flattened_node.update(node.get(\"attributes\", {}))\n",
    "        nodes_list.append(flattened_node)\n",
    "    \n",
    "    # Convert to DataFrame\n",
    "    nodes_df = pd.DataFrame(nodes_list)\n",
    "    \n",
    "    return nodes_df\n"
   ]
  },
  {
   "cell_type": "code",
   "execution_count": 12,
   "metadata": {},
   "outputs": [],
   "source": [
    "board_statistics = pd.read_csv(f\"{altered_dataframe_path}sample_board_statistics.csv\")\n",
    "network_statistics_path = f\"{boards_path}interlock_stats.json\"\n",
    "network_statistics = json_to_dataframes(network_statistics_path)\n"
   ]
  },
  {
   "cell_type": "code",
   "execution_count": 13,
   "metadata": {},
   "outputs": [
    {
     "name": "stdout",
     "output_type": "stream",
     "text": [
      "Assortativity based on 'female president': 0.009319930929590993\n"
     ]
    }
   ],
   "source": [
    "def calculate_assortativity(nodes_df, edges_df, attribute):\n",
    "    # Create a graph\n",
    "    G = nx.Graph()\n",
    "    \n",
    "    # Add nodes with attributes\n",
    "    for _, row in nodes_df.iterrows():\n",
    "        G.add_node(row['Id'], **row.to_dict())\n",
    "    \n",
    "    # Add edges\n",
    "    for _, row in edges_df.iterrows():\n",
    "        G.add_edge(row['Source'], row['Target'])\n",
    "    \n",
    "    # Calculate assortativity for the given attribute\n",
    "    assortativity = nx.attribute_assortativity_coefficient(G, attribute)\n",
    "    return assortativity\n",
    "\n",
    "\n",
    "nodes_df = pd.read_csv(f\"{absolute_path}{board_dataframes}aggregated_nodes.csv\")\n",
    "edges_df = pd.read_csv(f\"{absolute_path}{board_dataframes}aggregated_edges.csv\")\n",
    "assortativity = calculate_assortativity(nodes_df, edges_df, 'female_president')\n",
    "\n",
    "print(f\"Assortativity based on 'female president': {assortativity}\")"
   ]
  },
  {
   "cell_type": "code",
   "execution_count": 14,
   "metadata": {},
   "outputs": [
    {
     "name": "stdout",
     "output_type": "stream",
     "text": [
      "Centrality measures added to board_statistics and saved successfully.\n"
     ]
    }
   ],
   "source": [
    "# Paths\n",
    "board_statistics_path = f\"{altered_dataframe_path}sample_board_statistics.csv\"\n",
    "network_statistics_path = f\"{boards_path}interlock_stats.json\"\n",
    "\n",
    "# Load board_statistics DataFrame\n",
    "board_statistics = pd.read_csv(board_statistics_path)\n",
    "\n",
    "# Remove Betweenness, Degree, and Eigenvector columns if they exist to prevent duplicate columns\n",
    "for col in ['Betweenness', 'Degree', 'Eigenvector']:\n",
    "    if col in board_statistics.columns:\n",
    "        board_statistics.drop(columns=[col], inplace=True)\n",
    "\n",
    "# Load and parse the JSON file\n",
    "with open(network_statistics_path, 'r') as f:\n",
    "    network_data = json.load(f)\n",
    "\n",
    "# Extract node data (centrality measures and affiliationid)\n",
    "nodes = network_data.get(\"nodes\", [])\n",
    "node_data = []\n",
    "\n",
    "for node in nodes:\n",
    "    attributes = node.get(\"attributes\", {})\n",
    "    affiliation_id = attributes.get(\"affiliationid\")\n",
    "    betweenness = attributes.get(\"betweenesscentrality\", 0)  # Default to 0 if missing\n",
    "    degree = attributes.get(\"Degree\", 0)  # Default to 0 if missing\n",
    "    eigenvector = attributes.get(\"eigencentrality\", 0)  # Default to 0 if missing\n",
    "    node_data.append({\n",
    "        \"AffiliationId\": affiliation_id,\n",
    "        \"Betweenness\": betweenness,\n",
    "        \"Degree\": degree,\n",
    "        \"Eigenvector\": eigenvector\n",
    "    })\n",
    "\n",
    "# Convert extracted node data to a DataFrame\n",
    "node_df = pd.DataFrame(node_data)\n",
    "\n",
    "# Merge the centrality measures into board_statistics\n",
    "board_statistics = board_statistics.merge(\n",
    "    node_df,\n",
    "    how=\"left\",\n",
    "    on=\"AffiliationId\"\n",
    ")\n",
    "\n",
    "# Fill any missing centrality values with 0\n",
    "for col in ['Betweenness', 'Degree', 'Eigenvector']:\n",
    "    board_statistics[col] = board_statistics[col].fillna(0)\n",
    "\n",
    "# Remove duplicate rows\n",
    "board_statistics = board_statistics.drop_duplicates()\n",
    "\n",
    "# Save the updated board_statistics to CSV\n",
    "board_statistics.to_csv(board_statistics_path, index=False)\n",
    "\n",
    "print(\"Centrality measures added to board_statistics and saved successfully.\")"
   ]
  }
 ],
 "metadata": {
  "kernelspec": {
   "display_name": "projectEnv",
   "language": "python",
   "name": "python3"
  },
  "language_info": {
   "codemirror_mode": {
    "name": "ipython",
    "version": 3
   },
   "file_extension": ".py",
   "mimetype": "text/x-python",
   "name": "python",
   "nbconvert_exporter": "python",
   "pygments_lexer": "ipython3",
   "version": "3.11.9"
  }
 },
 "nbformat": 4,
 "nbformat_minor": 2
}
