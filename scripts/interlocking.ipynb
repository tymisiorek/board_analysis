{
 "cells": [
  {
   "cell_type": "code",
   "execution_count": 7,
   "metadata": {},
   "outputs": [],
   "source": [
    "import pandas as pd\n",
    "import os\n",
    "import json\n",
    "import numpy as np\n",
    "import matplotlib.pyplot as plt\n",
    "from itertools import combinations\n",
    "from collections import Counter, defaultdict\n",
    "from matplotlib.lines import Line2D\n",
    "from collections import Counter\n",
    "import networkx as nx\n",
    "\n",
    "import remove_non_sample as rns"
   ]
  },
  {
   "cell_type": "code",
   "execution_count": 8,
   "metadata": {},
   "outputs": [],
   "source": [
    "absolute_path = \"C:\\\\Users\\\\tykun\\\\\\OneDrive\\\\Documents\\\\SchoolDocs\\VSCodeProjects\\\\connectedData\\\\board_analysis\\\\\"\n",
    "altered_dataframes = \"altered_dataframes\\\\\"\n",
    "gpt_dataframes = \"gpt_dataframes\\\\\"\n",
    "graphs = \"graphs\\\\\"\n",
    "scripts =  \"scripts\\\\\"\n",
    "board_dataframes = \"board_dataframes\\\\\"\n",
    "\n",
    "years = [\"1999\", \"2000\", \"2005\", \"2008\", \"2009\", \"2013\"]\n",
    "\n",
    "same_year_interlocked_edges_path = F\"{absolute_path}{board_dataframes}same_year_interlocked_edges.csv\"\n",
    "same_year_interlocked_nodes_path = F\"{absolute_path}{board_dataframes}same_year_interlocked_nodes.csv\""
   ]
  },
  {
   "cell_type": "code",
   "execution_count": 9,
   "metadata": {},
   "outputs": [],
   "source": [
    "board_member_dict = defaultdict(set)\n",
    "edges_list = []\n",
    "nodes_dict = defaultdict(lambda: {'Interlock_Count': 0})\n",
    "\n",
    "# Iterate through each year\n",
    "for year in years:\n",
    "    boards_path = f\"{absolute_path}{board_dataframes}{year}_boards.csv\"\n",
    "    boards_df = pd.read_csv(boards_path)\n",
    "    #remove non sample schools\n",
    "    boards_df = rns.remove_non_samples(boards_df)\n",
    "\n",
    "    # Iterate over each board member\n",
    "    for index, row in boards_df.iterrows():\n",
    "        name = row['Name']\n",
    "        institution = row['Institution']\n",
    "        # If this board member has been seen before in a different institution, record an interlock\n",
    "        for previous_institution in board_member_dict[name]:\n",
    "            if previous_institution != institution:\n",
    "                # Record the interlock as an edge\n",
    "                edges_list.append({\n",
    "                    'Source': previous_institution,\n",
    "                    'Target': institution,\n",
    "                    'Type': 'Undirected',\n",
    "                    'Weight': 1  # Each interlock counts as 1 by default\n",
    "                })\n",
    "                # Increment the interlock count for the involved institutions\n",
    "                nodes_dict[previous_institution]['Interlock_Count'] += 1\n",
    "                nodes_dict[institution]['Interlock_Count'] += 1\n",
    "\n",
    "        # Add the current institution to the set of institutions this member is associated with\n",
    "        board_member_dict[name].add(institution)\n",
    "\n",
    "        # Ensure the Region is recorded for each institution\n",
    "\n",
    "# Create a DataFrame for nodes (universities) with their interlock counts and regions\n",
    "nodes_df = pd.DataFrame([(key, value['Interlock_Count']) for key, value in nodes_dict.items()], \n",
    "                        columns=['Id', 'Interlock_Count'])\n",
    "nodes_df['Label'] = nodes_df['Id']  # Use the institution name as the label\n",
    "\n",
    "# Ensure correct column order and uniqueness\n",
    "nodes_df = nodes_df[['Id', 'Label', 'Interlock_Count']]\n",
    "\n",
    "# Create a DataFrame for edges (interlocks between institutions)\n",
    "edges_df = pd.DataFrame(edges_list)\n",
    "\n",
    "# Ensure correct column order for edges\n",
    "edges_df = edges_df[['Source', 'Target', 'Type', 'Weight']]\n",
    "\n",
    "# Save the DataFrames to CSV files\n",
    "nodes_df.to_csv(same_year_interlocked_nodes_path, index=False)\n",
    "edges_df.to_csv(same_year_interlocked_edges_path, index=False)"
   ]
  }
 ],
 "metadata": {
  "kernelspec": {
   "display_name": "projectEnv",
   "language": "python",
   "name": "python3"
  },
  "language_info": {
   "codemirror_mode": {
    "name": "ipython",
    "version": 3
   },
   "file_extension": ".py",
   "mimetype": "text/x-python",
   "name": "python",
   "nbconvert_exporter": "python",
   "pygments_lexer": "ipython3",
   "version": "3.11.9"
  }
 },
 "nbformat": 4,
 "nbformat_minor": 2
}
