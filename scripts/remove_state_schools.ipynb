{
 "cells": [
  {
   "cell_type": "code",
   "execution_count": 1,
   "metadata": {},
   "outputs": [],
   "source": [
    "import pandas as pd\n",
    "import numpy as np\n",
    "import matplotlib.pyplot as plt\n",
    "from collections import Counter, defaultdict\n",
    "import os"
   ]
  },
  {
   "cell_type": "code",
   "execution_count": 2,
   "metadata": {},
   "outputs": [],
   "source": [
    "# File Paths\n",
    "absolute_path = \"C:\\\\Users\\\\tykun\\\\\\OneDrive\\\\Documents\\\\SchoolDocs\\VSCodeProjects\\\\connectedData\\\\board_analysis\\\\\"\n",
    "altered_dataframes = \"altered_dataframes\\\\\"\n",
    "gpt_dataframes = \"gpt_dataframes\\\\\"\n",
    "graphs = \"graphs\\\\\"\n",
    "scripts =  \"scripts\\\\\"\n",
    "board_dataframes = \"board_dataframes\\\\\"\n",
    "temporary_data = \"temporary_data\\\\\"\n",
    "\n",
    "altered_dataframe_path = f\"{absolute_path}{altered_dataframes}\"\n",
    "gpt_dataframe_path = f\"{absolute_path}{gpt_dataframes}\" \n",
    "graph_path = f\"{absolute_path}{graphs}\"\n",
    "script_path = f\"{absolute_path}{scripts}\"\n",
    "boards_path = f\"{absolute_path}{board_dataframes}\"\n",
    "state_path = f\"{absolute_path}{temporary_data}state_systems_validated.csv\"   \n",
    "\n",
    "# Valid Years\n",
    "years = [\"1999\", \"2000\", \"2005\", \"2008\", \"2009\", \"2013\"]"
   ]
  },
  {
   "cell_type": "code",
   "execution_count": 3,
   "metadata": {},
   "outputs": [
    {
     "name": "stderr",
     "output_type": "stream",
     "text": [
      "C:\\Users\\tykun\\AppData\\Local\\Temp\\ipykernel_22372\\2049823912.py:13: FutureWarning: Setting an item of incompatible dtype is deprecated and will raise an error in a future version of pandas. Value 'Arizona Board of Regents' has dtype incompatible with bool, please explicitly cast to a compatible dtype first.\n",
      "  university_board_statistics.loc[\n"
     ]
    }
   ],
   "source": [
    "university_board_statistics = pd.read_csv(f\"{altered_dataframe_path}university_board_statistics.csv\")\n",
    "state_system_df = pd.read_csv(state_path)\n",
    "\n",
    "# Set default value of StateSystem to False\n",
    "university_board_statistics['StateSystem'] = False\n",
    "\n",
    "for index, row in state_system_df.iterrows():\n",
    "    if pd.notna(row['StateSystem']):\n",
    "        institution = row['Institution']\n",
    "        affiliation_id = row['AffiliationId']\n",
    "        state_system_value = row['StateSystem']\n",
    "        \n",
    "        university_board_statistics.loc[\n",
    "            (university_board_statistics['Institution'] == institution) | \n",
    "            (university_board_statistics['AffiliationId'] == affiliation_id), \n",
    "            'StateSystem'\n",
    "        ] = state_system_value\n",
    "\n",
    "university_board_statistics.to_csv(f\"{altered_dataframe_path}university_board_statistics.csv\", index=False)"
   ]
  },
  {
   "cell_type": "code",
   "execution_count": 4,
   "metadata": {},
   "outputs": [
    {
     "name": "stdout",
     "output_type": "stream",
     "text": [
      "Replaced 6 duplicate entries with state system rows for year 1999.\n",
      "Replaced 10 duplicate entries with state system rows for year 2000.\n",
      "Replaced 6 duplicate entries with state system rows for year 2005.\n",
      "Replaced 11 duplicate entries with state system rows for year 2008.\n",
      "Replaced 6 duplicate entries with state system rows for year 2009.\n",
      "Updated university_board_statistics saved.\n"
     ]
    }
   ],
   "source": [
    "for year in years:\n",
    "    # Load the data for the current year\n",
    "    boards_df = pd.read_csv(f\"{boards_path}{year}_boards.csv\")\n",
    "    \n",
    "    # Group by Institution and aggregate unique Name values into sets\n",
    "    grouped = boards_df.groupby('Institution')['Name'].apply(set).reset_index()\n",
    "\n",
    "    # Track processed institutions and new state system rows\n",
    "    processed_institutions = set()\n",
    "    new_state_system_rows = []\n",
    "\n",
    "    # Create a mapping of name sets (as tuples) to lists of institutions that share them\n",
    "    name_to_institutions = {}\n",
    "\n",
    "    for i, group in grouped.iterrows():\n",
    "        institution = group['Institution']\n",
    "        names_set = tuple(group['Name'])  # Convert set to a tuple to make it hashable\n",
    "        \n",
    "        # Group institutions by their name sets\n",
    "        if names_set not in name_to_institutions:\n",
    "            name_to_institutions[names_set] = []\n",
    "        name_to_institutions[names_set].append(institution)\n",
    "\n",
    "    # Process each group of institutions that share the same name set\n",
    "    for names_set, institutions in name_to_institutions.items():\n",
    "        if len(institutions) > 1:  # Only consider groups with duplicates\n",
    "            processed_institutions.update(institutions)\n",
    "            \n",
    "            # Check if any of the institutions have a state system value\n",
    "            is_state_system = university_board_statistics.loc[\n",
    "                (university_board_statistics['Institution'].isin(institutions)) & \n",
    "                (university_board_statistics['StateSystem'].notna()) &\n",
    "                (university_board_statistics['StateSystem'] != False)\n",
    "            ].any().any()\n",
    "\n",
    "            if is_state_system:\n",
    "                # Extract the StateSystem value\n",
    "                state_system_name = university_board_statistics.loc[\n",
    "                    (university_board_statistics['Institution'].isin(institutions)) & \n",
    "                    (university_board_statistics['StateSystem'].notna()) &\n",
    "                    (university_board_statistics['StateSystem'] != False), 'StateSystem'\n",
    "                ].values[0]\n",
    "\n",
    "                # Use one of the institutions' diversity statistics\n",
    "                source_stats = university_board_statistics.loc[\n",
    "                    (university_board_statistics['Institution'].isin(institutions)) & \n",
    "                    (university_board_statistics['Year'] == int(year))\n",
    "                ]\n",
    "\n",
    "                if not source_stats.empty:\n",
    "                    source_stats = source_stats.iloc[0]\n",
    "                    new_row = {\n",
    "                        'Year': int(year),\n",
    "                        'Institution': state_system_name,\n",
    "                        'carnegie_id': np.nan,\n",
    "                        'AffiliationId': np.nan,\n",
    "                        'female_president': source_stats['female_president'],\n",
    "                        # 'poc_president': source_stats['poc_president'],\n",
    "                        # 'poc': source_stats['poc'],\n",
    "                        # 'white': source_stats['white'],\n",
    "                        'female': source_stats['female'],\n",
    "                        'male': source_stats['male'],\n",
    "                        'unknown': source_stats['unknown'],\n",
    "                        # 'poc_change': source_stats['poc_change'],\n",
    "                        # 'white_change': source_stats['white_change'],\n",
    "                        'unknown_change': source_stats['unknown_change'],\n",
    "                        'male_change': source_stats['male_change'],\n",
    "                        'female_change': source_stats['female_change'],\n",
    "                        'StateSystem': True\n",
    "                    }\n",
    "                    new_state_system_rows.append(new_row)\n",
    "\n",
    "    # Remove duplicate entries from the university statistics\n",
    "    university_board_statistics = university_board_statistics[\n",
    "        ~((university_board_statistics['Institution'].isin(processed_institutions)) & \n",
    "          (university_board_statistics['Year'] == int(year)))\n",
    "    ]\n",
    "\n",
    "    # Append new state system rows, if any\n",
    "    if new_state_system_rows:\n",
    "        new_rows_df = pd.DataFrame(new_state_system_rows)\n",
    "        university_board_statistics = pd.concat([university_board_statistics, new_rows_df], ignore_index=True)\n",
    "        print(f\"Replaced {len(processed_institutions)} duplicate entries with state system rows for year {year}.\")\n",
    "\n",
    "# Save the updated dataframe to CSV\n",
    "university_board_statistics = university_board_statistics.sort_values(by = [\"Year\", \"Institution\"])\n",
    "university_board_statistics.to_csv(f\"{altered_dataframe_path}sample_board_statistics.csv\", index=False)\n",
    "print(\"Updated university_board_statistics saved.\")\n"
   ]
  }
 ],
 "metadata": {
  "kernelspec": {
   "display_name": "projectEnv",
   "language": "python",
   "name": "python3"
  },
  "language_info": {
   "codemirror_mode": {
    "name": "ipython",
    "version": 3
   },
   "file_extension": ".py",
   "mimetype": "text/x-python",
   "name": "python",
   "nbconvert_exporter": "python",
   "pygments_lexer": "ipython3",
   "version": "3.11.9"
  }
 },
 "nbformat": 4,
 "nbformat_minor": 2
}
